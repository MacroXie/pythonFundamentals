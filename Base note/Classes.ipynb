{
 "cells": [
  {
   "attachments": {},
   "cell_type": "markdown",
   "metadata": {},
   "source": [
    "# Classes"
   ]
  },
  {
   "attachments": {},
   "cell_type": "markdown",
   "metadata": {},
   "source": [
    "## Creating and Using a Class"
   ]
  },
  {
   "attachments": {},
   "cell_type": "markdown",
   "metadata": {},
   "source": [
    "### Creating and Using a Class"
   ]
  },
  {
   "cell_type": "code",
   "execution_count": null,
   "metadata": {},
   "outputs": [],
   "source": [
    "class Dog():\n",
    "    def __init__(self, name, age):\n",
    "        self.name=name\n",
    "        self.age=age\n",
    "\n",
    "    def sit(self):\n",
    "        print(f'{self.name.title()} is now sitting')\n",
    "\n",
    "    def roll_over(self):\n",
    "        print(f'{self.name.title()} rolled over')"
   ]
  },
  {
   "attachments": {},
   "cell_type": "markdown",
   "metadata": {},
   "source": [
    "### The  __init__()  Method"
   ]
  },
  {
   "attachments": {},
   "cell_type": "markdown",
   "metadata": {},
   "source": [
    ">The __init__() method is a special method in Python used for initialization when creating an object. It acts as a constructor and is automatically called during the instantiation process of a class.\n",
    "\n",
    ">When you create a new object using a class, the __init__() method is automatically invoked, allowing you to perform initial setup for the object. This method can take parameters and use them to assign values to the object's attributes."
   ]
  },
  {
   "cell_type": "code",
   "execution_count": null,
   "metadata": {},
   "outputs": [
    {
     "name": "stdout",
     "output_type": "stream",
     "text": [
      "Alice\n",
      "25\n"
     ]
    }
   ],
   "source": [
    "class Person:\n",
    "    def __init__(self, name, age):\n",
    "        self.name = name\n",
    "        self.age = age\n",
    "\n",
    "person1 = Person(\"Alice\", 25)\n",
    "print(person1.name)\n",
    "print(person1.age)"
   ]
  },
  {
   "attachments": {},
   "cell_type": "markdown",
   "metadata": {},
   "source": [
    ">In the above example, the Person class has an __init__() method that takes two parameters: name and age. When initializing the object, the passed values are used to assign values to the object's name and age attributes.\n",
    "\n",
    ">Note that the first parameter of the __init__() method is typically self, which represents the current instance of the object. Within the method, self is used to access and manipulate the object's attributes.\n",
    "\n",
    ">In summary, the __init__() method allows you to perform initialization operations and assign initial values to the object's attributes when creating an object."
   ]
  },
  {
   "attachments": {},
   "cell_type": "markdown",
   "metadata": {},
   "source": [
    "### Making an Instance from a Class"
   ]
  },
  {
   "attachments": {},
   "cell_type": "markdown",
   "metadata": {},
   "source": [
    ">Define the class: Start by defining the class using the class keyword and give it a name. Inside the class, you can define attributes and methods that describe the behavior of the objects created from the class."
   ]
  },
  {
   "cell_type": "code",
   "execution_count": null,
   "metadata": {},
   "outputs": [],
   "source": [
    "class MyClass:\n",
    "    def __init__(self, attribute1, attribute2):\n",
    "        self.attribute1 = attribute1\n",
    "        self.attribute2 = attribute2\n",
    "\n",
    "    def my_method(self):\n",
    "        # Code for the method\n",
    "        pass"
   ]
  },
  {
   "attachments": {},
   "cell_type": "markdown",
   "metadata": {},
   "source": [
    ">Create an instance: To create an instance (also known as an object) of the class, you call the class name as if it were a function, passing any required arguments to the constructor method (__init__ in Python). The constructor method initializes the instance with the provided values."
   ]
  },
  {
   "cell_type": "code",
   "execution_count": null,
   "metadata": {},
   "outputs": [],
   "source": [
    "# Create an instance of MyClass\n",
    "# my_object = MyClass(value1, value2)\n",
    "# In this example, value1 and value2 are the values that will be assigned to attribute1 and attribute2 respectively."
   ]
  },
  {
   "attachments": {},
   "cell_type": "markdown",
   "metadata": {},
   "source": [
    "> Use the instance: Once the instance is created, you can access its attributes and methods using the dot notation (.)."
   ]
  },
  {
   "cell_type": "code",
   "execution_count": null,
   "metadata": {},
   "outputs": [],
   "source": [
    "# Access attributes\n",
    "print(my_object.attribute1)\n",
    "print(my_object.attribute2)\n",
    "\n",
    "# Call a method\n",
    "my_object.my_method()"
   ]
  },
  {
   "attachments": {},
   "cell_type": "markdown",
   "metadata": {},
   "source": [
    "## Working with Classes and Instances"
   ]
  },
  {
   "attachments": {},
   "cell_type": "markdown",
   "metadata": {},
   "source": [
    "### The Car Class"
   ]
  },
  {
   "cell_type": "code",
   "execution_count": null,
   "metadata": {},
   "outputs": [
    {
     "name": "stdout",
     "output_type": "stream",
     "text": [
      "2016 audi a4\n"
     ]
    }
   ],
   "source": [
    "class Car():\n",
    "    def __init__(self,make,model,year):\n",
    "        self.make = make\n",
    "        self.model = model\n",
    "        self.year = year\n",
    "\n",
    "    def get_descriptive_name(self):\n",
    "        long_name = f'{self.year} {self.make} {self.model}'\n",
    "        return long_name\n",
    "\n",
    "my_new_car = Car('audi','a4','2016')\n",
    "print(my_new_car.get_descriptive_name())"
   ]
  },
  {
   "attachments": {},
   "cell_type": "markdown",
   "metadata": {},
   "source": [
    "### Setting a Default Value for an Attribute"
   ]
  },
  {
   "cell_type": "code",
   "execution_count": null,
   "metadata": {},
   "outputs": [
    {
     "name": "stdout",
     "output_type": "stream",
     "text": [
      "2016 audi a4\n",
      "This car has 0 miles on it\n"
     ]
    }
   ],
   "source": [
    "class Car():\n",
    "    def __init__(self,make,model,year):\n",
    "        self.make = make\n",
    "        self.model = model\n",
    "        self.year = year\n",
    "        self.odometer_reading = 0\n",
    "\n",
    "    def get_descriptive_name(self):\n",
    "        long_name = f'{self.year} {self.make} {self.model}'\n",
    "        return long_name\n",
    "\n",
    "    def read_odometer(self):\n",
    "        print(f'This car has {self.odometer_reading} miles on it')\n",
    "\n",
    "my_new_car = Car('audi','a4','2016')\n",
    "print(my_new_car.get_descriptive_name())\n",
    "my_new_car.read_odometer()"
   ]
  },
  {
   "attachments": {},
   "cell_type": "markdown",
   "metadata": {},
   "source": [
    "### Modifying Attribute Values"
   ]
  },
  {
   "cell_type": "code",
   "execution_count": null,
   "metadata": {},
   "outputs": [
    {
     "name": "stdout",
     "output_type": "stream",
     "text": [
      "Modifying an Attribute’s Value Directly\n",
      "data1 is 20\n",
      "data2 is 15\n",
      "data1 is 20\n",
      "data2 is 10000\n",
      "\n",
      "Modifying an Attribute’s Value Through a Method\n",
      "data1 is 30\n",
      "data2 is 10000\n"
     ]
    }
   ],
   "source": [
    "class Example():\n",
    "    def __init__(self, data1, data2):\n",
    "        self.data1 = data1\n",
    "        self.data2 = data2\n",
    "\n",
    "    def print_data(self):\n",
    "        print(f'data1 is {self.data1}')\n",
    "        print(f'data2 is {self.data2}')\n",
    "\n",
    "    def change_data1(self, data):\n",
    "        self.data1 = data\n",
    "\n",
    "print('Modifying an Attribute’s Value Directly')\n",
    "Example = Example('20','15')\n",
    "Example.print_data()\n",
    "Example.data2 = 10000\n",
    "Example.print_data()\n",
    "print()\n",
    "\n",
    "print(\"Modifying an Attribute’s Value Through a Method\")\n",
    "Example.change_data1(30)\n",
    "Example.print_data()"
   ]
  },
  {
   "attachments": {},
   "cell_type": "markdown",
   "metadata": {},
   "source": [
    "## Inheritance"
   ]
  },
  {
   "attachments": {},
   "cell_type": "markdown",
   "metadata": {},
   "source": [
    ">In Python, when defining a child class, you can override the __init__() method of the parent class by defining a new __init__() method in the child class. This allows you to customize the initialization process for the child class.\n",
    "\n",
    ">The __init__() method is a special method in Python classes that gets called automatically when an object is created from the class. It is used to initialize the attributes of the object."
   ]
  },
  {
   "cell_type": "code",
   "execution_count": null,
   "metadata": {},
   "outputs": [],
   "source": [
    "class ParentClass:\n",
    "    def __init__(self, attribute1, attribute2):\n",
    "        self.attribute1 = attribute1\n",
    "        self.attribute2 = attribute2\n",
    "\n",
    "class ChildClass(ParentClass):\n",
    "    def __init__(self, attribute1, attribute2, attribute3):\n",
    "        super().__init__(attribute1, attribute2)\n",
    "        self.attribute3 = attribute3"
   ]
  },
  {
   "attachments": {},
   "cell_type": "markdown",
   "metadata": {},
   "source": [
    ">In the example above, ChildClass is a child class that inherits from ParentClass. The __init__() method in the child class takes three arguments: attribute1, attribute2, and attribute3.\n",
    "\n",
    ">To initialize the attributes attribute1 and attribute2 inherited from the parent class, we call the __init__() method of the parent class using the super() function. This ensures that the initialization code in the parent class is executed. Then, we initialize the attribute3 specific to the child class.\n",
    "\n",
    ">By using super().__init__(attribute1, attribute2), we pass the values of attribute1 and attribute2 to the parent class constructor, allowing it to initialize those attributes before adding the child class-specific attribute."
   ]
  },
  {
   "cell_type": "code",
   "execution_count": null,
   "metadata": {},
   "outputs": [],
   "source": [
    "obj = ChildClass('value1', 'value2', 'value3')"
   ]
  },
  {
   "attachments": {},
   "cell_type": "markdown",
   "metadata": {},
   "source": [
    ">This will create an object of ChildClass and initialize its attributes attribute1, attribute2, and attribute3 with the corresponding values value1, value2, and value3."
   ]
  },
  {
   "cell_type": "code",
   "execution_count": null,
   "metadata": {},
   "outputs": [],
   "source": [
    "# Example\n",
    "class Car_example():\n",
    "    def __init__(self, make, model, year):\n",
    "        self.make = make\n",
    "        self.model = model\n",
    "        self.year = year\n",
    "        self.odometer_reading = 0\n",
    "\n",
    "    def get_descriptive_name(self):\n",
    "        long_name = f'{self.make}, {self.model}, {self.year}'\n",
    "        return long_name.title()\n",
    "\n",
    "    def read_odometer(self):\n",
    "\n"
   ]
  }
 ],
 "metadata": {
  "language_info": {
   "name": "python"
  },
  "orig_nbformat": 4
 },
 "nbformat": 4,
 "nbformat_minor": 2
}
